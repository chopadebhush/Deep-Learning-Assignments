{
  "metadata": {
    "kernelspec": {
      "name": "python",
      "display_name": "Python (Pyodide)",
      "language": "python"
    },
    "language_info": {
      "codemirror_mode": {
        "name": "python",
        "version": 3
      },
      "file_extension": ".py",
      "mimetype": "text/x-python",
      "name": "python",
      "nbconvert_exporter": "python",
      "pygments_lexer": "ipython3",
      "version": "3.8"
    }
  },
  "nbformat_minor": 4,
  "nbformat": 4,
  "cells": [
    {
      "cell_type": "markdown",
      "source": "#### 1.Explain the basic components of a digital image and how it is represented in a computer. State the differences between grayscale and color images&",
      "metadata": {}
    },
    {
      "cell_type": "markdown",
      "source": "Ans :\n\nA digital image is made up of tiny elements called pixels, and each pixel has a value that represents a specific intensity or color. Images are represented in computers as a matrix or grid of pixel values, where each value encodes the color or intensity of the corresponding pixel.\n\nGrayscale Image: A grayscale image contains only shades of gray, where each pixel is represented by a single value. The value typically ranges from 0 (black) to 255 (white), with intermediate values representing different shades of gray. It is a 2D matrix of intensity values.\n\nColor Image: A color image is composed of multiple channels (usually three: Red, Green, Blue—RGB). Each pixel is represented by a combination of three values, one for each color channel. A color image is thus represented as a 3D array, with width and height of the image being the first two dimensions and the color channel being the third.\n\nDifferences Between Grayscale and Color Images:\n\nNumber of Channels: Grayscale images have one channel, while color images have three (RGB).\nPixel Representation: Grayscale pixels represent intensity, while color pixels represent a combination of intensities for the Red, Green, and Blue channels.\nComplexity: Color images carry more information and are more complex than grayscale images, which are simpler but less detailed.\n",
      "metadata": {}
    },
    {
      "cell_type": "markdown",
      "source": "#### 2.Define Convolutional Neural Networks (CNNs) and discuss their role in image processing.Describe the key advantages of using CNNs over traditional neural networks for image-related tasks&",
      "metadata": {}
    },
    {
      "cell_type": "code",
      "source": "Ans :\n\n",
      "metadata": {
        "trusted": true
      },
      "outputs": [],
      "execution_count": null
    },
    {
      "cell_type": "code",
      "source": "",
      "metadata": {
        "trusted": true
      },
      "outputs": [],
      "execution_count": null
    },
    {
      "cell_type": "code",
      "source": "",
      "metadata": {
        "trusted": true
      },
      "outputs": [],
      "execution_count": null
    },
    {
      "cell_type": "code",
      "source": "",
      "metadata": {
        "trusted": true
      },
      "outputs": [],
      "execution_count": null
    },
    {
      "cell_type": "code",
      "source": "",
      "metadata": {
        "trusted": true
      },
      "outputs": [],
      "execution_count": null
    },
    {
      "cell_type": "code",
      "source": "",
      "metadata": {
        "trusted": true
      },
      "outputs": [],
      "execution_count": null
    },
    {
      "cell_type": "code",
      "source": "",
      "metadata": {
        "trusted": true
      },
      "outputs": [],
      "execution_count": null
    },
    {
      "cell_type": "code",
      "source": "",
      "metadata": {
        "trusted": true
      },
      "outputs": [],
      "execution_count": null
    },
    {
      "cell_type": "code",
      "source": "",
      "metadata": {
        "trusted": true
      },
      "outputs": [],
      "execution_count": null
    },
    {
      "cell_type": "code",
      "source": "",
      "metadata": {
        "trusted": true
      },
      "outputs": [],
      "execution_count": null
    },
    {
      "cell_type": "code",
      "source": "",
      "metadata": {
        "trusted": true
      },
      "outputs": [],
      "execution_count": null
    },
    {
      "cell_type": "code",
      "source": "",
      "metadata": {
        "trusted": true
      },
      "outputs": [],
      "execution_count": null
    },
    {
      "cell_type": "code",
      "source": "",
      "metadata": {
        "trusted": true
      },
      "outputs": [],
      "execution_count": null
    }
  ]
}