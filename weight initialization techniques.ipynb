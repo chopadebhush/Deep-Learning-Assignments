{
  "metadata": {
    "kernelspec": {
      "name": "python",
      "display_name": "Python (Pyodide)",
      "language": "python"
    },
    "language_info": {
      "codemirror_mode": {
        "name": "python",
        "version": 3
      },
      "file_extension": ".py",
      "mimetype": "text/x-python",
      "name": "python",
      "nbconvert_exporter": "python",
      "pygments_lexer": "ipython3",
      "version": "3.8"
    }
  },
  "nbformat_minor": 4,
  "nbformat": 4,
  "cells": [
    {
      "cell_type": "markdown",
      "source": "#### 1.What is the vanishing gradient problem in deep neural networks? How does it affect training\f \n",
      "metadata": {}
    },
    {
      "cell_type": "markdown",
      "source": "Ans :\n\nThe vanishing gradient problem occurs when the gradients of the loss function become exceedingly small during backpropagation in deep neural networks, particularly in networks with many layers. This results in very small weight updates for layers close to the input, making it difficult for the network to learn effectively. Specifically, the weights in the early layers are not adjusted meaningfully, and learning becomes very slow or even stagnant.\n\nEffect on Training: The vanishing gradient problem causes the network to stop learning or converge very slowly because the gradients for earlier layers vanish as they propagate backward, leading to poor model performance, especially in tasks involving long-term dependencies (e.g., RNNs).",
      "metadata": {}
    },
    {
      "cell_type": "markdown",
      "source": "#### 2.Explain how Xavier initialization addresses the vanishing gradient problem& \n",
      "metadata": {}
    },
    {
      "cell_type": "markdown",
      "source": "Ans :\n\nXavier (or Glorot) initialization is a technique designed to keep the variance of the activations and gradients the same across all layers of the network. It works by initializing the weights using a distribution with zero mean and variance:\n\nVar(𝑊)=2𝑛in+𝑛outn in​ +n out​ 2​ \n\nwhere 𝑛inn is the number of input units and \n𝑛out\nn out\n​is the number of output units for a given layer.\n\nAddressing Vanishing Gradients: By keeping the variance of the weights controlled and balanced across layers, Xavier initialization helps prevent gradients from shrinking or growing too much, which mitigates the vanishing gradient problem in networks using activation functions like Sigmoid or Tanh.",
      "metadata": {}
    },
    {
      "cell_type": "markdown",
      "source": "#### 3.What are some common activation functions that are prone to causing vanishing gradients\f \n",
      "metadata": {}
    },
    {
      "cell_type": "markdown",
      "source": "Ans :\n\nCertain activation functions are prone to causing vanishing gradients because they squash the input values into a small range, leading to small gradients. Examples include:\n\nSigmoid: Maps values between 0 and 1, where large or small inputs produce gradients close to zero.\nTanh: Maps values between -1 and 1. While it’s centered around zero, its gradients can still vanish for large inputs.\nThese functions cause gradients to approach zero during backpropagation, especially when deep layers amplify this effect.",
      "metadata": {}
    },
    {
      "cell_type": "markdown",
      "source": "#### 4.Define the exploding gradient problem in deep neural networks. How does it impact training\f \n",
      "metadata": {}
    },
    {
      "cell_type": "markdown",
      "source": "Ans :\n\nThe exploding gradient problem occurs when the gradients grow exponentially during backpropagation in deep networks, especially when using certain activation functions or weight initialization techniques. When gradients are too large, the weight updates become very large, leading to instability in the learning process.\n\nImpact on Training: Exploding gradients can cause the model's weights to oscillate or diverge, preventing convergence. This results in unstable training and often leads to numerical overflow errors in computations.",
      "metadata": {}
    },
    {
      "cell_type": "markdown",
      "source": "#### 5.What is the role of proper weight initialization in training deep neural networks\f \n",
      "metadata": {}
    },
    {
      "cell_type": "markdown",
      "source": "Ans :\n\nProper weight initialization is crucial for deep neural networks to:\n\nPrevent Vanishing/Exploding Gradients: By initializing weights properly, the network ensures that gradients neither vanish nor explode during training.\nSpeed Up Convergence: Well-initialized weights help the network converge faster by starting with weights that are close to optimal, reducing the time required to find good solutions.\nEnable Effective Learning: Proper initialization sets the stage for effective learning by allowing backpropagation to adjust weights meaningfully across layers.`m",
      "metadata": {}
    },
    {
      "cell_type": "markdown",
      "source": "#### 6.Explain the concept of batch normalization and its impact on weight initialization techniques\n",
      "metadata": {}
    },
    {
      "cell_type": "markdown",
      "source": "Ans :\n\nBatch Normalization is a technique that normalizes the activations of each layer by adjusting and scaling them during training. It standardizes the inputs to each layer so that they have a mean of zero and a variance of one, improving the stability of the network.\n\nImpact on Weight Initialization: Batch normalization reduces the sensitivity of the network to weight initialization by ensuring that the inputs to each layer are normalized. This allows for the use of more flexible initialization schemes and reduces issues like vanishing/exploding gradients. Networks with batch normalization can train faster and be less affected by poor initialization.",
      "metadata": {}
    },
    {
      "cell_type": "markdown",
      "source": "#### 7.Implement He initialization in Python using TensorFlow or PyTorch.",
      "metadata": {}
    },
    {
      "cell_type": "markdown",
      "source": "Ans :\n\nHe Initialization is designed for layers with ReLU activations. It sets the variance of the weights to:\n\nVar(𝑊)=2𝑛inVar(W)= n in\n​\n \n2\n​\n \n\nThis ensures that the weights are initialized in a way that keeps the activations flowing well through deep networks.\n\nHere is an implementation of He Initialization in both TensorFlow and PyTorch.",
      "metadata": {}
    },
    {
      "cell_type": "code",
      "source": "import tensorflow as tf\n\n# Create a layer using He initialization\ninitializer = tf.keras.initializers.HeNormal()\n\n# Example of initializing weights in a Dense layer\nmodel = tf.keras.Sequential([\n    tf.keras.layers.Dense(64, activation='relu', kernel_initializer=initializer, input_shape=(100,)),\n    tf.keras.layers.Dense(10, activation='softmax')\n])\n\n# Compile the model\nmodel.compile(optimizer='adam', loss='categorical_crossentropy', metrics=['accuracy'])\n\n# Summary of the model\nmodel.summary()\n",
      "metadata": {
        "trusted": true
      },
      "outputs": [],
      "execution_count": null
    },
    {
      "cell_type": "code",
      "source": "import torch\nimport torch.nn as nn\n\n# Define a simple network with He initialization for layers\nclass SimpleNN(nn.Module):\n    def __init__(self):\n        super(SimpleNN, self).__init__()\n        self.fc1 = nn.Linear(100, 64)\n        self.fc2 = nn.Linear(64, 10)\n        self.relu = nn.ReLU()\n    \n    def forward(self, x):\n        x = self.relu(self.fc1(x))\n        x = self.fc2(x)\n        return x\n\n# Instantiate the model\nmodel = SimpleNN()\n\n# Apply He initialization to all layers\ndef init_weights(m):\n    if isinstance(m, nn.Linear):\n        nn.init.kaiming_normal_(m.weight, nonlinearity='relu')\n\nmodel.apply(init_weights)\n\n# Summary of the model\nprint(model)\n",
      "metadata": {
        "trusted": true
      },
      "outputs": [],
      "execution_count": null
    },
    {
      "cell_type": "code",
      "source": "",
      "metadata": {
        "trusted": true
      },
      "outputs": [],
      "execution_count": null
    },
    {
      "cell_type": "code",
      "source": "",
      "metadata": {
        "trusted": true
      },
      "outputs": [],
      "execution_count": null
    },
    {
      "cell_type": "code",
      "source": "",
      "metadata": {
        "trusted": true
      },
      "outputs": [],
      "execution_count": null
    },
    {
      "cell_type": "code",
      "source": "",
      "metadata": {
        "trusted": true
      },
      "outputs": [],
      "execution_count": null
    },
    {
      "cell_type": "code",
      "source": "",
      "metadata": {
        "trusted": true
      },
      "outputs": [],
      "execution_count": null
    }
  ]
}